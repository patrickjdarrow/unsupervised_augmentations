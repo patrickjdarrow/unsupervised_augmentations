{
 "cells": [
  {
   "cell_type": "code",
   "execution_count": 1,
   "id": "9137ad87-27da-4fb6-8ae5-058251e41418",
   "metadata": {},
   "outputs": [
    {
     "name": "stdout",
     "output_type": "stream",
     "text": [
      "LEN:  50000\n",
      "LEN:  10000\n"
     ]
    }
   ],
   "source": [
    "import torch\n",
    "import torchvision\n",
    "import torch.nn.functional as F\n",
    "import numpy as np\n",
    "import matplotlib.pyplot as plt\n",
    "import cv2\n",
    "from PIL import Image\n",
    "from skimage.transform import PiecewiseAffineTransform, warp\n",
    "from skimage import data\n",
    "import os\n",
    "import sys\n",
    "from data import CIFAR_gen\n",
    "from models import joint, augmentor, encoder, baseline\n",
    "import torch.optim as optim\n",
    "\n",
    "\n",
    "join = os.path.join\n",
    "\n",
    "bs = 100 \n",
    "\n",
    "cgen = CIFAR_gen(bs=bs)"
   ]
  },
  {
   "cell_type": "code",
   "execution_count": null,
   "id": "450c3ef4-217a-4160-bf89-2b7d3177687f",
   "metadata": {},
   "outputs": [],
   "source": [
    "m = joint(shape=cgen.train_shape[1:])\n",
    "opt = optim.Adam(m.parameters())"
   ]
  },
  {
   "cell_type": "code",
   "execution_count": null,
   "id": "38468fc3-c460-4a13-a9c9-4d36950e49bf",
   "metadata": {},
   "outputs": [],
   "source": [
    "for i, (x,y) in enumerate(cgen.generator(train=True)):\n",
    "    \n",
    "    opt.zero_grad()\n",
    "    \n",
    "    (_, _, encoder_loss), (_, augmentor_loss) = m.evaluate(x)\n",
    "    \n",
    "    loss = -encoder_loss * torch.log(augmentor_loss)\n",
    "    \n",
    "    loss.backward()\n",
    "    opt.step()\n",
    "    print(loss.detach().numpy(), encoder_loss.detach().numpy(), augmentor_loss.detach().numpy(), )"
   ]
  },
  {
   "cell_type": "code",
   "execution_count": 178,
   "id": "1e8c3236-6ff0-494f-af7a-68b82b731783",
   "metadata": {},
   "outputs": [],
   "source": [
    "def warp_sample(x,\n",
    "                divisions=5,\n",
    "                sf=1):\n",
    "    \n",
    "    if type(x) == torch.Tensor:\n",
    "        torch_tensor = True\n",
    "        x = x.permute(-1,-2,-3).detach().numpy()\n",
    "    \n",
    "    x = 255 * x\n",
    "    x = x.astype(np.uint8)\n",
    "    \n",
    "    rows, cols = x.shape[0], x.shape[1]\n",
    "    \n",
    "    src_cols = np.linspace(0, cols, divisions)\n",
    "    src_rows = np.linspace(0, rows, divisions)\n",
    "    src_rows, src_cols = np.meshgrid(src_rows, src_cols)\n",
    "    src = np.dstack([src_cols.flat, src_rows.flat])[0]\n",
    "    \n",
    "    f = max(x.shape) // (2 * (divisions - 1) ) - sf\n",
    "\n",
    "    dst_rows = src[:, 1] + f * np.random.random(src[:, 1].shape) - f/2\n",
    "    dst_cols = src[:, 0] + f * np.random.random(src[:, 0].shape) - f/2\n",
    "\n",
    "    dst = np.vstack([dst_cols, dst_rows]).T\n",
    "\n",
    "    tform = PiecewiseAffineTransform()\n",
    "    tform.estimate(src, dst)\n",
    "\n",
    "    crop_dist = 0#f//2\n",
    "    out = warp(x, tform)#[crop_dist:-crop_dist,crop_dist:-crop_dist,:]\n",
    "    \n",
    "    if torch_tensor:\n",
    "        return torch.Tensor(out).permute(-1,-2,-3).type(torch.float) / 255.0\n",
    "    \n",
    "    return out\n",
    "\n",
    "\n",
    "def preproc(batch, fns, serial=True):\n",
    "    \n",
    "    if serial:\n",
    "        for i, sample in enumerate(batch):\n",
    "            for fn in fns:\n",
    "                batch[i] = fn(sample)\n",
    "    \n",
    "    else:\n",
    "        for fn in fns:\n",
    "            batch = fn(batch)\n",
    "            \n",
    "    return batch"
   ]
  },
  {
   "cell_type": "code",
   "execution_count": 179,
   "id": "8802001a-bf0c-466d-990f-355344e5af85",
   "metadata": {},
   "outputs": [],
   "source": [
    "# vanilla CNN, a close equivalent\n",
    "\n",
    "base = baseline()\n",
    "opt = optim.Adam(base.parameters())\n",
    "loss_fn = torch.nn.MSELoss()\n",
    "\n",
    "n_epochs = 30"
   ]
  },
  {
   "cell_type": "code",
   "execution_count": null,
   "id": "80210719-db11-474e-8a06-be4adb35dd04",
   "metadata": {},
   "outputs": [
    {
     "name": "stdout",
     "output_type": "stream",
     "text": [
      "epoch #1\t            train_loss:\t0.000895\t            val_loss:\t0.001432\t            val_acc:\t0.102424\n"
     ]
    }
   ],
   "source": [
    "preproc_fns = [warp_sample]\n",
    "\n",
    "for epoch in range(n_epochs):\n",
    "    \n",
    "    train_loss = 0\n",
    "    \n",
    "    for i, (x,y) in enumerate(cgen.generator(train=True)):\n",
    "        \n",
    "        x = preproc(x, preproc_fns)\n",
    "\n",
    "        opt.zero_grad()\n",
    "\n",
    "        out = base(x)\n",
    "\n",
    "        loss = loss_fn(out, F.one_hot(y).float())\n",
    "        train_loss += loss.item()\n",
    "\n",
    "        loss.backward()\n",
    "        opt.step()\n",
    "\n",
    "    train_loss /= i * bs\n",
    "\n",
    "    val_loss = 0\n",
    "    val_acc = 0\n",
    "\n",
    "    for i, (x,y) in enumerate(cgen.generator(train=False)):\n",
    "\n",
    "        with torch.no_grad():\n",
    "            out = base(x)\n",
    "            val_loss += loss_fn(out, F.one_hot(y).float()).item()\n",
    "            val_acc += torch.sum(torch.argmax(out, axis=1) == y).item()\n",
    "    \n",
    "    val_loss /= i * bs\n",
    "    val_acc /= i * bs\n",
    "\n",
    "    print(f'epoch #{epoch+1}\\t\\\n",
    "            train_loss:\\t{train_loss:3f}\\t\\\n",
    "            val_loss:\\t{val_loss:3f}\\t\\\n",
    "            val_acc:\\t{val_acc:3f}')"
   ]
  },
  {
   "cell_type": "code",
   "execution_count": 1,
   "id": "0fea8fa6-e390-4e98-9054-6599ee8e68ca",
   "metadata": {},
   "outputs": [
    {
     "ename": "NameError",
     "evalue": "name 'm' is not defined",
     "output_type": "error",
     "traceback": [
      "\u001b[0;31m---------------------------------------------------------------------------\u001b[0m",
      "\u001b[0;31mNameError\u001b[0m                                 Traceback (most recent call last)",
      "\u001b[0;32m<ipython-input-1-b021965e54ba>\u001b[0m in \u001b[0;36m<module>\u001b[0;34m\u001b[0m\n\u001b[1;32m      1\u001b[0m \u001b[0mi\u001b[0m \u001b[0;34m=\u001b[0m \u001b[0;36m1\u001b[0m\u001b[0;34m\u001b[0m\u001b[0;34m\u001b[0m\u001b[0m\n\u001b[0;32m----> 2\u001b[0;31m \u001b[0msample\u001b[0m \u001b[0;34m=\u001b[0m \u001b[0mm\u001b[0m\u001b[0;34m.\u001b[0m\u001b[0ma\u001b[0m\u001b[0;34m(\u001b[0m\u001b[0mx\u001b[0m\u001b[0;34m)\u001b[0m\u001b[0;34m[\u001b[0m\u001b[0mi\u001b[0m\u001b[0;34m]\u001b[0m\u001b[0;34m[\u001b[0m\u001b[0;36m0\u001b[0m\u001b[0;34m]\u001b[0m\u001b[0;34m.\u001b[0m\u001b[0mdetach\u001b[0m\u001b[0;34m(\u001b[0m\u001b[0;34m)\u001b[0m\u001b[0;34m.\u001b[0m\u001b[0mnumpy\u001b[0m\u001b[0;34m(\u001b[0m\u001b[0;34m)\u001b[0m\u001b[0;34m\u001b[0m\u001b[0;34m\u001b[0m\u001b[0m\n\u001b[0m\u001b[1;32m      3\u001b[0m \u001b[0msample\u001b[0m \u001b[0;34m-=\u001b[0m \u001b[0msample\u001b[0m\u001b[0;34m.\u001b[0m\u001b[0mmin\u001b[0m\u001b[0;34m(\u001b[0m\u001b[0;34m)\u001b[0m\u001b[0;34m\u001b[0m\u001b[0;34m\u001b[0m\u001b[0m\n\u001b[1;32m      4\u001b[0m \u001b[0msample\u001b[0m \u001b[0;34m/=\u001b[0m \u001b[0msample\u001b[0m\u001b[0;34m.\u001b[0m\u001b[0mmax\u001b[0m\u001b[0;34m(\u001b[0m\u001b[0;34m)\u001b[0m\u001b[0;34m\u001b[0m\u001b[0;34m\u001b[0m\u001b[0m\n\u001b[1;32m      5\u001b[0m \u001b[0mplt\u001b[0m\u001b[0;34m.\u001b[0m\u001b[0mimshow\u001b[0m\u001b[0;34m(\u001b[0m\u001b[0msample\u001b[0m\u001b[0;34m)\u001b[0m\u001b[0;34m,\u001b[0m \u001b[0my\u001b[0m\u001b[0;34m[\u001b[0m\u001b[0mi\u001b[0m\u001b[0;34m]\u001b[0m\u001b[0;34m[\u001b[0m\u001b[0;36m0\u001b[0m\u001b[0;34m]\u001b[0m\u001b[0;34m\u001b[0m\u001b[0;34m\u001b[0m\u001b[0m\n",
      "\u001b[0;31mNameError\u001b[0m: name 'm' is not defined"
     ]
    }
   ],
   "source": [
    "i = 1\n",
    "sample = m.a(x)[i][0].detach().numpy()\n",
    "sample -= sample.min()\n",
    "sample /= sample.max()\n",
    "plt.imshow(sample), y[i].detach().numpy()[0]"
   ]
  },
  {
   "cell_type": "code",
   "execution_count": 6,
   "id": "575f21a3-3ff6-471f-91f5-dac42eaa5f4b",
   "metadata": {},
   "outputs": [
    {
     "data": {
      "text/plain": [
       "<matplotlib.image.AxesImage at 0x7fab5161c160>"
      ]
     },
     "execution_count": 6,
     "metadata": {},
     "output_type": "execute_result"
    },
    {
     "data": {
      "image/png": "[encoded data removed]",
      "text/plain": [
       "<Figure size 432x288 with 1 Axes>"
      ]
     },
     "metadata": {
      "needs_background": "light"
     },
     "output_type": "display_data"
    }
   ],
   "source": [
    "gt = x[i][0].detach().numpy()\n",
    "plt.imshow(gt)"
   ]
  },
  {
   "cell_type": "code",
   "execution_count": 7,
   "id": "df1a4689-2023-4f00-ac40-794d422df5fc",
   "metadata": {},
   "outputs": [
    {
     "data": {
      "text/plain": [
       "<matplotlib.image.AxesImage at 0x7fab51db08d0>"
      ]
     },
     "execution_count": 7,
     "metadata": {},
     "output_type": "execute_result"
    },
    {
     "data": {
      "image/png": "[encoded data removed]",
      "text/plain": [
       "<Figure size 432x288 with 1 Axes>"
      ]
     },
     "metadata": {
      "needs_background": "light"
     },
     "output_type": "display_data"
    }
   ],
   "source": [
    "plt.imshow(gt-sample)"
   ]
  },
  {
   "cell_type": "code",
   "execution_count": 10,
   "id": "711f1bfc-672d-4509-808c-5041f16af2f6",
   "metadata": {},
   "outputs": [
    {
     "ename": "NameError",
     "evalue": "name 'sample' is not defined",
     "output_type": "error",
     "traceback": [
      "\u001b[0;31m---------------------------------------------------------------------------\u001b[0m",
      "\u001b[0;31mNameError\u001b[0m                                 Traceback (most recent call last)",
      "\u001b[0;32m<ipython-input-10-75bc159ab6d5>\u001b[0m in \u001b[0;36m<module>\u001b[0;34m\u001b[0m\n\u001b[0;32m----> 1\u001b[0;31m \u001b[0mgt\u001b[0m\u001b[0;34m.\u001b[0m\u001b[0mmin\u001b[0m\u001b[0;34m(\u001b[0m\u001b[0;34m)\u001b[0m\u001b[0;34m,\u001b[0m \u001b[0mgt\u001b[0m\u001b[0;34m.\u001b[0m\u001b[0mmax\u001b[0m\u001b[0;34m(\u001b[0m\u001b[0;34m)\u001b[0m\u001b[0;34m,\u001b[0m \u001b[0msample\u001b[0m\u001b[0;34m.\u001b[0m\u001b[0mmin\u001b[0m\u001b[0;34m(\u001b[0m\u001b[0;34m)\u001b[0m\u001b[0;34m,\u001b[0m \u001b[0msample\u001b[0m\u001b[0;34m.\u001b[0m\u001b[0mmax\u001b[0m\u001b[0;34m(\u001b[0m\u001b[0;34m)\u001b[0m\u001b[0;34m,\u001b[0m \u001b[0mtorch\u001b[0m\u001b[0;34m.\u001b[0m\u001b[0mnn\u001b[0m\u001b[0;34m.\u001b[0m\u001b[0mMSELoss\u001b[0m\u001b[0;34m(\u001b[0m\u001b[0;34m)\u001b[0m\u001b[0;34m(\u001b[0m\u001b[0mm\u001b[0m\u001b[0;34m.\u001b[0m\u001b[0ma\u001b[0m\u001b[0;34m(\u001b[0m\u001b[0mx\u001b[0m\u001b[0;34m)\u001b[0m\u001b[0;34m[\u001b[0m\u001b[0mi\u001b[0m\u001b[0;34m]\u001b[0m\u001b[0;34m[\u001b[0m\u001b[0;36m0\u001b[0m\u001b[0;34m]\u001b[0m\u001b[0;34m,\u001b[0m \u001b[0mx\u001b[0m\u001b[0;34m[\u001b[0m\u001b[0mi\u001b[0m\u001b[0;34m]\u001b[0m\u001b[0;34m[\u001b[0m\u001b[0;36m0\u001b[0m\u001b[0;34m]\u001b[0m\u001b[0;34m)\u001b[0m\u001b[0;34m.\u001b[0m\u001b[0mitem\u001b[0m\u001b[0;34m(\u001b[0m\u001b[0;34m)\u001b[0m\u001b[0;34m,\u001b[0m \u001b[0mtorch\u001b[0m\u001b[0;34m.\u001b[0m\u001b[0mnn\u001b[0m\u001b[0;34m.\u001b[0m\u001b[0mMSELoss\u001b[0m\u001b[0;34m(\u001b[0m\u001b[0;34m)\u001b[0m\u001b[0;34m(\u001b[0m\u001b[0mm\u001b[0m\u001b[0;34m.\u001b[0m\u001b[0ma\u001b[0m\u001b[0;34m(\u001b[0m\u001b[0mx\u001b[0m\u001b[0;34m)\u001b[0m\u001b[0;34m[\u001b[0m\u001b[0mi\u001b[0m\u001b[0;34m]\u001b[0m\u001b[0;34m[\u001b[0m\u001b[0;36m0\u001b[0m\u001b[0;34m]\u001b[0m\u001b[0;34m,\u001b[0m \u001b[0mm\u001b[0m\u001b[0;34m.\u001b[0m\u001b[0ma\u001b[0m\u001b[0;34m(\u001b[0m\u001b[0mx\u001b[0m\u001b[0;34m)\u001b[0m\u001b[0;34m[\u001b[0m\u001b[0mi\u001b[0m\u001b[0;34m-\u001b[0m\u001b[0;36m1\u001b[0m\u001b[0;34m]\u001b[0m\u001b[0;34m[\u001b[0m\u001b[0;36m0\u001b[0m\u001b[0;34m]\u001b[0m\u001b[0;34m)\u001b[0m\u001b[0;34m.\u001b[0m\u001b[0mitem\u001b[0m\u001b[0;34m(\u001b[0m\u001b[0;34m)\u001b[0m\u001b[0;34m\u001b[0m\u001b[0;34m\u001b[0m\u001b[0m\n\u001b[0m",
      "\u001b[0;31mNameError\u001b[0m: name 'sample' is not defined"
     ]
    }
   ],
   "source": [
    "gt.min(), gt.max(), sample.min(), sample.max(), torch.nn.MSELoss()(m.a(x)[i][0], x[i][0]).item(), torch.nn.MSELoss()(m.a(x)[i][0], m.a(x)[i-1][0]).item()"
   ]
  },
  {
   "cell_type": "code",
   "execution_count": 14,
   "id": "c170d447-b4f7-419d-89e7-fd73dbd15101",
   "metadata": {},
   "outputs": [
    {
     "data": {
      "text/plain": [
       "['e.c1.weight',\n",
       " 'e.c1.bias',\n",
       " 'e.c2.weight',\n",
       " 'e.c2.bias',\n",
       " 'e.c3.weight',\n",
       " 'e.c3.bias',\n",
       " 'e.c4.weight',\n",
       " 'e.c4.bias',\n",
       " 'e.c5.weight',\n",
       " 'e.c5.bias',\n",
       " 'e.fc1.weight',\n",
       " 'e.fc1.bias',\n",
       " 'e.fc2.weight',\n",
       " 'e.fc2.bias']"
      ]
     },
     "execution_count": 14,
     "metadata": {},
     "output_type": "execute_result"
    }
   ],
   "source": [
    "[k for k in [*m.state_dict().keys()] if k[0]=='e']"
   ]
  },
  {
   "cell_type": "code",
   "execution_count": 6,
   "id": "9e80c3b1-0233-4402-a6ac-862994bdfe06",
   "metadata": {},
   "outputs": [
    {
     "data": {
      "text/plain": [
       "<All keys matched successfully>"
      ]
     },
     "execution_count": 6,
     "metadata": {},
     "output_type": "execute_result"
    }
   ],
   "source": [
    "i3 = torchvision.models.inception_v3()\n",
    "i3.load_state_dict(torch.load('inception_v3_google-0cc3c7bd.pth'))"
   ]
  },
  {
   "cell_type": "code",
   "execution_count": 17,
   "id": "47cfc2b6-1174-4630-b1a6-13a835433cf0",
   "metadata": {},
   "outputs": [
    {
     "data": {
      "text/plain": [
       "torch.Size([1, 1, 28, 28])"
      ]
     },
     "execution_count": 17,
     "metadata": {},
     "output_type": "execute_result"
    }
   ],
   "source": [
    "sample = torch.Tensor(cv2.resize(cv2.imread('DSC_5908.jpg', cv2.IMREAD_GRAYSCALE), (28,28))).reshape((1,1,28,28))\n",
    "sample.size()"
   ]
  },
  {
   "cell_type": "code",
   "execution_count": 101,
   "id": "00932f3f-8e36-42d7-b4f1-1b03a2e2b4bd",
   "metadata": {},
   "outputs": [
    {
     "data": {
      "text/plain": [
       "(array([ 1.,  0.,  2.,  3.,  3., 13., 18., 32., 33., 48., 52., 55., 46.,\n",
       "        64., 79., 68., 56., 53., 35., 48., 40., 37., 20., 20., 25., 19.,\n",
       "        21., 15., 17., 17.,  6.,  9.,  6., 12., 10.,  3.,  4.,  0.,  2.,\n",
       "         1.,  1.,  3.,  0.,  0.,  0.,  0.,  1.,  0.,  1.,  1.]),\n",
       " array([-2.6350012 , -2.4827774 , -2.3305538 , -2.17833   , -2.0261064 ,\n",
       "        -1.8738825 , -1.7216588 , -1.5694351 , -1.4172114 , -1.2649877 ,\n",
       "        -1.112764  , -0.96054024, -0.8083165 , -0.6560928 , -0.5038691 ,\n",
       "        -0.35164538, -0.19942166, -0.04719793,  0.10502579,  0.2572495 ,\n",
       "         0.40947324,  0.56169695,  0.71392065,  0.8661444 ,  1.0183681 ,\n",
       "         1.1705918 ,  1.3228155 ,  1.4750392 ,  1.627263  ,  1.7794867 ,\n",
       "         1.9317105 ,  2.083934  ,  2.236158  ,  2.3883815 ,  2.5406053 ,\n",
       "         2.6928291 ,  2.8450527 ,  2.9972765 ,  3.1495001 ,  3.301724  ,\n",
       "         3.4539475 ,  3.6061714 ,  3.7583952 ,  3.9106188 ,  4.0628424 ,\n",
       "         4.2150664 ,  4.36729   ,  4.5195136 ,  4.671737  ,  4.8239613 ,\n",
       "         4.976185  ], dtype=float32),\n",
       " <BarContainer object of 50 artists>)"
      ]
     },
     "execution_count": 101,
     "metadata": {},
     "output_type": "execute_result"
    },
    {
     "data": {
      "image/png": "[encoded data removed]",
      "text/plain": [
       "<Figure size 432x288 with 1 Axes>"
      ]
     },
     "metadata": {
      "needs_background": "light"
     },
     "output_type": "display_data"
    }
   ],
   "source": [
    "plt.hist(i3.eval()(sample).reshape((1000)).detach().numpy(), bins=50)"
   ]
  },
  {
   "cell_type": "code",
   "execution_count": 96,
   "id": "275155fa-3baf-4ec7-a76a-4269d5d3d3ef",
   "metadata": {},
   "outputs": [
    {
     "data": {
      "text/plain": [
       "torch.Size([32, 3, 3, 3])"
      ]
     },
     "execution_count": 96,
     "metadata": {},
     "output_type": "execute_result"
    }
   ],
   "source": [
    "i3.state_dict()['Conv2d_1a_3x3.conv.weight'].shape"
   ]
  },
  {
   "cell_type": "code",
   "execution_count": 19,
   "id": "85e37d47-0214-4d7f-92cb-8310b80da3a6",
   "metadata": {},
   "outputs": [
    {
     "data": {
      "text/plain": [
       "<matplotlib.image.AxesImage at 0x7fc203887668>"
      ]
     },
     "execution_count": 19,
     "metadata": {},
     "output_type": "execute_result"
    },
    {
     "data": {
      "image/png": "[encoded data removed]",
      "text/plain": [
       "<Figure size 432x288 with 1 Axes>"
      ]
     },
     "metadata": {
      "needs_background": "light"
     },
     "output_type": "display_data"
    }
   ],
   "source": [
    "plt.imshow(sample[0].reshape(28,28,1).int())"
   ]
  },
  {
   "cell_type": "code",
   "execution_count": 23,
   "id": "316c4551-4585-4ca2-bb56-fd2523bc8c8e",
   "metadata": {},
   "outputs": [
    {
     "data": {
      "text/plain": [
       "<matplotlib.image.AxesImage at 0x7fc202201278>"
      ]
     },
     "execution_count": 23,
     "metadata": {},
     "output_type": "execute_result"
    },
    {
     "data": {
      "image/png": "[encoded data removed]",
      "text/plain": [
       "<Figure size 432x288 with 1 Axes>"
      ]
     },
     "metadata": {
      "needs_background": "light"
     },
     "output_type": "display_data"
    }
   ],
   "source": [
    "plt.imshow(m.a(sample)[0][0].detach().numpy())"
   ]
  },
  {
   "cell_type": "code",
   "execution_count": 4,
   "id": "8aab9c52-f931-4d81-8a19-5e59749f15ae",
   "metadata": {},
   "outputs": [
    {
     "name": "stdout",
     "output_type": "stream",
     "text": [
      "> \u001b[0;32m/Users/work/Git/unsupervised_WIP/models.py\u001b[0m(73)\u001b[0;36mforward\u001b[0;34m()\u001b[0m\n",
      "\u001b[0;32m     71 \u001b[0;31m        \u001b[0;32mimport\u001b[0m \u001b[0mpdb\u001b[0m\u001b[0;34m;\u001b[0m\u001b[0mpdb\u001b[0m\u001b[0;34m.\u001b[0m\u001b[0mset_trace\u001b[0m\u001b[0;34m(\u001b[0m\u001b[0;34m)\u001b[0m\u001b[0;34m\u001b[0m\u001b[0;34m\u001b[0m\u001b[0m\n",
      "\u001b[0m\u001b[0;32m     72 \u001b[0;31m\u001b[0;34m\u001b[0m\u001b[0m\n",
      "\u001b[0m\u001b[0;32m---> 73 \u001b[0;31m        \u001b[0min_shape\u001b[0m \u001b[0;34m=\u001b[0m \u001b[0mx\u001b[0m\u001b[0;34m.\u001b[0m\u001b[0mshape\u001b[0m\u001b[0;34m\u001b[0m\u001b[0;34m\u001b[0m\u001b[0m\n",
      "\u001b[0m\u001b[0;32m     74 \u001b[0;31m\u001b[0;34m\u001b[0m\u001b[0m\n",
      "\u001b[0m\u001b[0;32m     75 \u001b[0;31m        \u001b[0mx\u001b[0m \u001b[0;34m=\u001b[0m \u001b[0mtorch\u001b[0m\u001b[0;34m.\u001b[0m\u001b[0mnn\u001b[0m\u001b[0;34m.\u001b[0m\u001b[0mFlatten\u001b[0m\u001b[0;34m(\u001b[0m\u001b[0;34m)\u001b[0m\u001b[0;34m(\u001b[0m\u001b[0mx\u001b[0m\u001b[0;34m)\u001b[0m\u001b[0;34m\u001b[0m\u001b[0;34m\u001b[0m\u001b[0m\n",
      "\u001b[0m\n"
     ]
    },
    {
     "name": "stdin",
     "output_type": "stream",
     "text": [
      "ipdb>  continue\n"
     ]
    }
   ],
   "source": [
    "xxx = aug(torch.Tensor(np.random.random((2,1,28,28))))"
   ]
  },
  {
   "cell_type": "code",
   "execution_count": 10,
   "id": "b53f195c-9f2b-4acc-a527-a2655e306d0b",
   "metadata": {},
   "outputs": [
    {
     "data": {
      "text/plain": [
       "<matplotlib.image.AxesImage at 0x7f8dcf5c6630>"
      ]
     },
     "execution_count": 10,
     "metadata": {},
     "output_type": "execute_result"
    },
    {
     "data": {
      "image/png": "[encoded data removed]",
      "text/plain": [
       "<Figure size 432x288 with 1 Axes>"
      ]
     },
     "metadata": {
      "needs_background": "light"
     },
     "output_type": "display_data"
    }
   ],
   "source": [
    "plt.imshow(xxx[0][0].detach().numpy())"
   ]
  },
  {
   "cell_type": "code",
   "execution_count": 7,
   "id": "f39ed866-34f0-44e4-a9d0-b81f87eefb9b",
   "metadata": {},
   "outputs": [
    {
     "data": {
      "text/plain": [
       "120"
      ]
     },
     "execution_count": 7,
     "metadata": {},
     "output_type": "execute_result"
    }
   ],
   "source": [
    "np.prod(np.random.random((1,2,3,4,5)).shape)"
   ]
  },
  {
   "cell_type": "code",
   "execution_count": 25,
   "id": "00611b38-9560-4610-ae03-00638cce5442",
   "metadata": {},
   "outputs": [
    {
     "data": {
      "text/plain": [
       "<matplotlib.image.AxesImage at 0x7fd46b912908>"
      ]
     },
     "execution_count": 25,
     "metadata": {},
     "output_type": "execute_result"
    },
    {
     "data": {
      "image/png": "[encoded data removed]",
      "text/plain": [
       "<Figure size 432x288 with 1 Axes>"
      ]
     },
     "metadata": {
      "needs_background": "light"
     },
     "output_type": "display_data"
    }
   ],
   "source": [
    "plt.imshow(i3._transform_input(x[0].expand(1, 3,-1,-1))[0][0].detach().numpy())"
   ]
  },
  {
   "cell_type": "code",
   "execution_count": 24,
   "id": "019b3e2b-4f2f-4e5e-85ee-6f9cc86f4f4b",
   "metadata": {},
   "outputs": [
    {
     "data": {
      "text/plain": [
       "<matplotlib.image.AxesImage at 0x7fd466f03780>"
      ]
     },
     "execution_count": 24,
     "metadata": {},
     "output_type": "execute_result"
    },
    {
     "data": {
      "image/png": "[encoded data removed]",
      "text/plain": [
       "<Figure size 432x288 with 1 Axes>"
      ]
     },
     "metadata": {
      "needs_background": "light"
     },
     "output_type": "display_data"
    }
   ],
   "source": [
    "plt.imshow(x[0].expand(1, 3,-1,-1)[0][0].detach().numpy())"
   ]
  },
  {
   "cell_type": "code",
   "execution_count": 15,
   "id": "62fd41c8-266d-4887-bc7c-e4ffdf139c63",
   "metadata": {},
   "outputs": [
    {
     "data": {
      "text/plain": [
       "torch.Size([2, 1000])"
      ]
     },
     "execution_count": 15,
     "metadata": {},
     "output_type": "execute_result"
    }
   ],
   "source": [
    "i3(x[0].expand(2, 3,-1,-1).resize_(2,3,299,299)).logits.shape"
   ]
  },
  {
   "cell_type": "code",
   "execution_count": null,
   "id": "a8b05f44-db14-459e-b214-ded446b4580a",
   "metadata": {},
   "outputs": [],
   "source": []
  }
 ],
 "metadata": {
  "kernelspec": {
   "display_name": "Python 3",
   "language": "python",
   "name": "python3"
  },
  "language_info": {
   "codemirror_mode": {
    "name": "ipython",
    "version": 3
   },
   "file_extension": ".py",
   "mimetype": "text/x-python",
   "name": "python",
   "nbconvert_exporter": "python",
   "pygments_lexer": "ipython3",
   "version": "3.6.8"
  }
 },
 "nbformat": 4,
 "nbformat_minor": 5
}
