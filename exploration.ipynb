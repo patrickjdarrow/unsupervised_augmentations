{
 "cells": [
  {
   "cell_type": "code",
   "execution_count": 67,
   "id": "dc91d096-37a1-4035-b99f-589f2f17df6f",
   "metadata": {},
   "outputs": [],
   "source": [
    "import torch\n",
    "import torchvision\n",
    "import numpy as np\n",
    "import matplotlib.pyplot as plt\n",
    "import cv2\n",
    "from PIL import Image\n",
    "import os\n",
    "import sys\n",
    "from data import MNIST_gen\n",
    "\n",
    "join = os.path.join"
   ]
  },
  {
   "cell_type": "code",
   "execution_count": 68,
   "id": "ecefe7cb-ac2f-412a-a316-ddada3b86e09",
   "metadata": {},
   "outputs": [
    {
     "name": "stderr",
     "output_type": "stream",
     "text": [
      "0.2%"
     ]
    },
    {
     "name": "stdout",
     "output_type": "stream",
     "text": [
      "Downloading http://yann.lecun.com/exdb/mnist/train-images-idx3-ubyte.gz\n",
      "Downloading http://yann.lecun.com/exdb/mnist/train-images-idx3-ubyte.gz to /Users/work/Git/unsupervised_WIP/common_datasets/MNIST/raw/train-images-idx3-ubyte.gz\n"
     ]
    },
    {
     "name": "stderr",
     "output_type": "stream",
     "text": [
      "100.0%\n"
     ]
    },
    {
     "name": "stdout",
     "output_type": "stream",
     "text": [
      "Extracting /Users/work/Git/unsupervised_WIP/common_datasets/MNIST/raw/train-images-idx3-ubyte.gz to /Users/work/Git/unsupervised_WIP/common_datasets/MNIST/raw\n"
     ]
    },
    {
     "name": "stderr",
     "output_type": "stream",
     "text": [
      "102.8%"
     ]
    },
    {
     "name": "stdout",
     "output_type": "stream",
     "text": [
      "\n",
      "Downloading http://yann.lecun.com/exdb/mnist/train-labels-idx1-ubyte.gz\n",
      "Downloading http://yann.lecun.com/exdb/mnist/train-labels-idx1-ubyte.gz to /Users/work/Git/unsupervised_WIP/common_datasets/MNIST/raw/train-labels-idx1-ubyte.gz\n",
      "Extracting /Users/work/Git/unsupervised_WIP/common_datasets/MNIST/raw/train-labels-idx1-ubyte.gz to /Users/work/Git/unsupervised_WIP/common_datasets/MNIST/raw\n",
      "\n",
      "Downloading http://yann.lecun.com/exdb/mnist/t10k-images-idx3-ubyte.gz\n",
      "Downloading http://yann.lecun.com/exdb/mnist/t10k-images-idx3-ubyte.gz to /Users/work/Git/unsupervised_WIP/common_datasets/MNIST/raw/t10k-images-idx3-ubyte.gz\n"
     ]
    },
    {
     "name": "stderr",
     "output_type": "stream",
     "text": [
      "\n",
      "100.0%\n"
     ]
    },
    {
     "name": "stdout",
     "output_type": "stream",
     "text": [
      "Extracting /Users/work/Git/unsupervised_WIP/common_datasets/MNIST/raw/t10k-images-idx3-ubyte.gz to /Users/work/Git/unsupervised_WIP/common_datasets/MNIST/raw\n",
      "\n",
      "Downloading http://yann.lecun.com/exdb/mnist/t10k-labels-idx1-ubyte.gz\n"
     ]
    },
    {
     "name": "stderr",
     "output_type": "stream",
     "text": [
      "112.7%"
     ]
    },
    {
     "name": "stdout",
     "output_type": "stream",
     "text": [
      "Downloading http://yann.lecun.com/exdb/mnist/t10k-labels-idx1-ubyte.gz to /Users/work/Git/unsupervised_WIP/common_datasets/MNIST/raw/t10k-labels-idx1-ubyte.gz\n",
      "Extracting /Users/work/Git/unsupervised_WIP/common_datasets/MNIST/raw/t10k-labels-idx1-ubyte.gz to /Users/work/Git/unsupervised_WIP/common_datasets/MNIST/raw\n",
      "\n"
     ]
    },
    {
     "name": "stderr",
     "output_type": "stream",
     "text": [
      "\n"
     ]
    }
   ],
   "source": [
    "mgen = MNIST_gen(bs=100)"
   ]
  },
  {
   "cell_type": "code",
   "execution_count": 69,
   "id": "ac0c1d6b-22fe-4a3f-bd7b-f959b216521c",
   "metadata": {},
   "outputs": [
    {
     "name": "stdout",
     "output_type": "stream",
     "text": [
      "0 \t torch.Size([100, 1, 28, 28]) \t torch.Size([100])\n"
     ]
    }
   ],
   "source": [
    "for i, (x,y) in enumerate(mgen.generator(train=True)):\n",
    "    if i == 0:\n",
    "        im = x[0]\n",
    "        print(i,'\\t',x.shape,'\\t',y.shape)"
   ]
  },
  {
   "cell_type": "code",
   "execution_count": null,
   "id": "11a65483-06b6-4d6b-9af9-4d970c67b3dc",
   "metadata": {},
   "outputs": [],
   "source": []
  }
 ],
 "metadata": {
  "kernelspec": {
   "display_name": "Python 3",
   "language": "python",
   "name": "python3"
  },
  "language_info": {
   "codemirror_mode": {
    "name": "ipython",
    "version": 3
   },
   "file_extension": ".py",
   "mimetype": "text/x-python",
   "name": "python",
   "nbconvert_exporter": "python",
   "pygments_lexer": "ipython3",
   "version": "3.6.8"
  }
 },
 "nbformat": 4,
 "nbformat_minor": 5
}
