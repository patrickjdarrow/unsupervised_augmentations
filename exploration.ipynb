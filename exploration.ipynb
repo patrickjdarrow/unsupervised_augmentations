{
 "cells": [
  {
   "cell_type": "code",
   "execution_count": 62,
   "id": "dc91d096-37a1-4035-b99f-589f2f17df6f",
   "metadata": {},
   "outputs": [],
   "source": [
    "import torch\n",
    "import torchvision\n",
    "import numpy as np\n",
    "import matplotlib.pyplot as plt\n",
    "import cv2\n",
    "from PIL import Image\n",
    "import os\n",
    "import sys\n",
    "from data import MNIST_gen\n",
    "from models import joint\n",
    "import torch.optim as optim\n",
    "\n",
    "\n",
    "join = os.path.join"
   ]
  },
  {
   "cell_type": "code",
   "execution_count": 3,
   "id": "ecefe7cb-ac2f-412a-a316-ddada3b86e09",
   "metadata": {},
   "outputs": [],
   "source": [
    "mgen = MNIST_gen(bs=100)"
   ]
  },
  {
   "cell_type": "code",
   "execution_count": 80,
   "id": "450c3ef4-217a-4160-bf89-2b7d3177687f",
   "metadata": {},
   "outputs": [],
   "source": [
    "mse = torch.nn.MSELoss()\n",
    "opt = optim.Adam(m.parameters())"
   ]
  },
  {
   "cell_type": "code",
   "execution_count": 4,
   "id": "6f330243-13d1-4ed2-95c5-fffca827e685",
   "metadata": {},
   "outputs": [
    {
     "name": "stdout",
     "output_type": "stream",
     "text": [
      "device: cpu\n",
      "device: cpu\n",
      "device: cpu\n",
      "device: cpu\n",
      "device: cpu\n"
     ]
    }
   ],
   "source": [
    "m = joint()"
   ]
  },
  {
   "cell_type": "code",
   "execution_count": 133,
   "id": "38468fc3-c460-4a13-a9c9-4d36950e49bf",
   "metadata": {},
   "outputs": [
    {
     "name": "stdout",
     "output_type": "stream",
     "text": [
      "tensor(0.0065, grad_fn=<MseLossBackward0>)\n",
      "tensor(0.0093, grad_fn=<MseLossBackward0>)\n",
      "tensor(0.0174, grad_fn=<MseLossBackward0>)\n",
      "tensor(0.0051, grad_fn=<MseLossBackward0>)\n",
      "tensor(0.0007, grad_fn=<MseLossBackward0>)\n",
      "tensor(0.0054, grad_fn=<MseLossBackward0>)\n",
      "tensor(0.0079, grad_fn=<MseLossBackward0>)\n",
      "tensor(0.0041, grad_fn=<MseLossBackward0>)\n",
      "tensor(0.0009, grad_fn=<MseLossBackward0>)\n",
      "tensor(0.0014, grad_fn=<MseLossBackward0>)\n",
      "tensor(0.0022, grad_fn=<MseLossBackward0>)\n",
      "tensor(0.0025, grad_fn=<MseLossBackward0>)\n",
      "tensor(0.0023, grad_fn=<MseLossBackward0>)\n",
      "tensor(0.0018, grad_fn=<MseLossBackward0>)\n",
      "tensor(0.0016, grad_fn=<MseLossBackward0>)\n",
      "tensor(0.0019, grad_fn=<MseLossBackward0>)\n",
      "tensor(0.0017, grad_fn=<MseLossBackward0>)\n",
      "tensor(0.0012, grad_fn=<MseLossBackward0>)\n",
      "tensor(0.0005, grad_fn=<MseLossBackward0>)\n",
      "tensor(0.0003, grad_fn=<MseLossBackward0>)\n",
      "tensor(0.0006, grad_fn=<MseLossBackward0>)\n",
      "tensor(0.0010, grad_fn=<MseLossBackward0>)\n",
      "tensor(0.0010, grad_fn=<MseLossBackward0>)\n",
      "tensor(0.0007, grad_fn=<MseLossBackward0>)\n",
      "tensor(0.0003, grad_fn=<MseLossBackward0>)\n",
      "tensor(0.0002, grad_fn=<MseLossBackward0>)\n",
      "tensor(0.0004, grad_fn=<MseLossBackward0>)\n",
      "tensor(0.0005, grad_fn=<MseLossBackward0>)\n",
      "tensor(0.0004, grad_fn=<MseLossBackward0>)\n",
      "tensor(0.0002, grad_fn=<MseLossBackward0>)\n",
      "tensor(0.0002, grad_fn=<MseLossBackward0>)\n",
      "tensor(0.0002, grad_fn=<MseLossBackward0>)\n",
      "tensor(0.0002, grad_fn=<MseLossBackward0>)\n",
      "tensor(0.0002, grad_fn=<MseLossBackward0>)\n",
      "tensor(0.0002, grad_fn=<MseLossBackward0>)\n",
      "tensor(0.0001, grad_fn=<MseLossBackward0>)\n",
      "tensor(9.8576e-05, grad_fn=<MseLossBackward0>)\n",
      "tensor(9.4404e-05, grad_fn=<MseLossBackward0>)\n",
      "tensor(9.7207e-05, grad_fn=<MseLossBackward0>)\n",
      "tensor(0.0001, grad_fn=<MseLossBackward0>)\n",
      "tensor(0.0001, grad_fn=<MseLossBackward0>)\n",
      "tensor(0.0001, grad_fn=<MseLossBackward0>)\n",
      "tensor(0.0001, grad_fn=<MseLossBackward0>)\n",
      "tensor(8.5213e-05, grad_fn=<MseLossBackward0>)\n",
      "tensor(7.5206e-05, grad_fn=<MseLossBackward0>)\n",
      "tensor(5.7933e-05, grad_fn=<MseLossBackward0>)\n",
      "tensor(5.4434e-05, grad_fn=<MseLossBackward0>)\n",
      "tensor(5.4488e-05, grad_fn=<MseLossBackward0>)\n",
      "tensor(6.5810e-05, grad_fn=<MseLossBackward0>)\n",
      "tensor(5.2904e-05, grad_fn=<MseLossBackward0>)\n",
      "tensor(6.3534e-05, grad_fn=<MseLossBackward0>)\n",
      "tensor(6.4453e-05, grad_fn=<MseLossBackward0>)\n",
      "tensor(5.2540e-05, grad_fn=<MseLossBackward0>)\n",
      "tensor(5.1576e-05, grad_fn=<MseLossBackward0>)\n",
      "tensor(5.3214e-05, grad_fn=<MseLossBackward0>)\n",
      "tensor(3.4195e-05, grad_fn=<MseLossBackward0>)\n",
      "tensor(3.5722e-05, grad_fn=<MseLossBackward0>)\n",
      "tensor(3.6481e-05, grad_fn=<MseLossBackward0>)\n",
      "tensor(2.7571e-05, grad_fn=<MseLossBackward0>)\n",
      "tensor(2.7654e-05, grad_fn=<MseLossBackward0>)\n",
      "tensor(3.6759e-05, grad_fn=<MseLossBackward0>)\n",
      "tensor(3.3630e-05, grad_fn=<MseLossBackward0>)\n",
      "tensor(2.4894e-05, grad_fn=<MseLossBackward0>)\n",
      "tensor(2.8183e-05, grad_fn=<MseLossBackward0>)\n",
      "tensor(3.3138e-05, grad_fn=<MseLossBackward0>)\n",
      "tensor(2.6457e-05, grad_fn=<MseLossBackward0>)\n",
      "tensor(2.1567e-05, grad_fn=<MseLossBackward0>)\n",
      "tensor(2.4475e-05, grad_fn=<MseLossBackward0>)\n",
      "tensor(2.4890e-05, grad_fn=<MseLossBackward0>)\n",
      "tensor(2.6170e-05, grad_fn=<MseLossBackward0>)\n",
      "tensor(2.0443e-05, grad_fn=<MseLossBackward0>)\n",
      "tensor(2.0943e-05, grad_fn=<MseLossBackward0>)\n",
      "tensor(2.1511e-05, grad_fn=<MseLossBackward0>)\n",
      "tensor(2.1764e-05, grad_fn=<MseLossBackward0>)\n",
      "tensor(1.8229e-05, grad_fn=<MseLossBackward0>)\n",
      "tensor(1.6079e-05, grad_fn=<MseLossBackward0>)\n",
      "tensor(1.8152e-05, grad_fn=<MseLossBackward0>)\n",
      "tensor(1.7643e-05, grad_fn=<MseLossBackward0>)\n",
      "tensor(1.6999e-05, grad_fn=<MseLossBackward0>)\n",
      "tensor(2.0774e-05, grad_fn=<MseLossBackward0>)\n",
      "tensor(1.8232e-05, grad_fn=<MseLossBackward0>)\n",
      "tensor(1.3555e-05, grad_fn=<MseLossBackward0>)\n",
      "tensor(1.7041e-05, grad_fn=<MseLossBackward0>)\n",
      "tensor(1.4336e-05, grad_fn=<MseLossBackward0>)\n",
      "tensor(1.5744e-05, grad_fn=<MseLossBackward0>)\n",
      "tensor(1.7879e-05, grad_fn=<MseLossBackward0>)\n",
      "tensor(1.7227e-05, grad_fn=<MseLossBackward0>)\n",
      "tensor(1.4328e-05, grad_fn=<MseLossBackward0>)\n",
      "tensor(1.2386e-05, grad_fn=<MseLossBackward0>)\n",
      "tensor(1.2558e-05, grad_fn=<MseLossBackward0>)\n",
      "tensor(1.3456e-05, grad_fn=<MseLossBackward0>)\n",
      "tensor(1.2703e-05, grad_fn=<MseLossBackward0>)\n",
      "tensor(1.1643e-05, grad_fn=<MseLossBackward0>)\n",
      "tensor(1.4498e-05, grad_fn=<MseLossBackward0>)\n",
      "tensor(1.5339e-05, grad_fn=<MseLossBackward0>)\n",
      "tensor(1.2294e-05, grad_fn=<MseLossBackward0>)\n",
      "tensor(1.3579e-05, grad_fn=<MseLossBackward0>)\n",
      "tensor(1.0800e-05, grad_fn=<MseLossBackward0>)\n",
      "tensor(1.1381e-05, grad_fn=<MseLossBackward0>)\n",
      "tensor(1.1030e-05, grad_fn=<MseLossBackward0>)\n",
      "tensor(1.0910e-05, grad_fn=<MseLossBackward0>)\n",
      "tensor(9.6422e-06, grad_fn=<MseLossBackward0>)\n",
      "tensor(1.0951e-05, grad_fn=<MseLossBackward0>)\n",
      "tensor(8.8320e-06, grad_fn=<MseLossBackward0>)\n",
      "tensor(1.1940e-05, grad_fn=<MseLossBackward0>)\n",
      "tensor(1.0211e-05, grad_fn=<MseLossBackward0>)\n",
      "tensor(1.0014e-05, grad_fn=<MseLossBackward0>)\n",
      "tensor(1.0768e-05, grad_fn=<MseLossBackward0>)\n",
      "tensor(7.2650e-06, grad_fn=<MseLossBackward0>)\n",
      "tensor(1.0571e-05, grad_fn=<MseLossBackward0>)\n",
      "tensor(1.1131e-05, grad_fn=<MseLossBackward0>)\n",
      "tensor(7.9940e-06, grad_fn=<MseLossBackward0>)\n",
      "tensor(8.3248e-06, grad_fn=<MseLossBackward0>)\n",
      "tensor(8.2736e-06, grad_fn=<MseLossBackward0>)\n",
      "tensor(7.9138e-06, grad_fn=<MseLossBackward0>)\n",
      "tensor(8.1774e-06, grad_fn=<MseLossBackward0>)\n",
      "tensor(8.5565e-06, grad_fn=<MseLossBackward0>)\n",
      "tensor(7.7884e-06, grad_fn=<MseLossBackward0>)\n",
      "tensor(7.1123e-06, grad_fn=<MseLossBackward0>)\n",
      "tensor(7.5631e-06, grad_fn=<MseLossBackward0>)\n",
      "tensor(7.0375e-06, grad_fn=<MseLossBackward0>)\n",
      "tensor(8.2171e-06, grad_fn=<MseLossBackward0>)\n",
      "tensor(9.0660e-06, grad_fn=<MseLossBackward0>)\n",
      "tensor(9.4175e-06, grad_fn=<MseLossBackward0>)\n",
      "tensor(8.2495e-06, grad_fn=<MseLossBackward0>)\n",
      "tensor(6.7753e-06, grad_fn=<MseLossBackward0>)\n",
      "tensor(7.6349e-06, grad_fn=<MseLossBackward0>)\n",
      "tensor(8.9469e-06, grad_fn=<MseLossBackward0>)\n",
      "tensor(7.1085e-06, grad_fn=<MseLossBackward0>)\n",
      "tensor(7.8802e-06, grad_fn=<MseLossBackward0>)\n",
      "tensor(7.7883e-06, grad_fn=<MseLossBackward0>)\n",
      "tensor(6.7395e-06, grad_fn=<MseLossBackward0>)\n",
      "tensor(6.6964e-06, grad_fn=<MseLossBackward0>)\n",
      "tensor(6.4963e-06, grad_fn=<MseLossBackward0>)\n",
      "tensor(6.8774e-06, grad_fn=<MseLossBackward0>)\n",
      "tensor(6.2582e-06, grad_fn=<MseLossBackward0>)\n",
      "tensor(6.6928e-06, grad_fn=<MseLossBackward0>)\n",
      "tensor(5.3341e-06, grad_fn=<MseLossBackward0>)\n",
      "tensor(6.1541e-06, grad_fn=<MseLossBackward0>)\n",
      "tensor(8.0111e-06, grad_fn=<MseLossBackward0>)\n",
      "tensor(6.5091e-06, grad_fn=<MseLossBackward0>)\n",
      "tensor(7.6272e-06, grad_fn=<MseLossBackward0>)\n",
      "tensor(6.9196e-06, grad_fn=<MseLossBackward0>)\n",
      "tensor(7.4276e-06, grad_fn=<MseLossBackward0>)\n",
      "tensor(6.2097e-06, grad_fn=<MseLossBackward0>)\n",
      "tensor(6.1249e-06, grad_fn=<MseLossBackward0>)\n",
      "tensor(9.9357e-06, grad_fn=<MseLossBackward0>)\n",
      "tensor(9.3743e-06, grad_fn=<MseLossBackward0>)\n",
      "tensor(8.8312e-06, grad_fn=<MseLossBackward0>)\n",
      "tensor(5.4789e-06, grad_fn=<MseLossBackward0>)\n",
      "tensor(4.8281e-06, grad_fn=<MseLossBackward0>)\n",
      "tensor(5.1694e-06, grad_fn=<MseLossBackward0>)\n",
      "tensor(5.3011e-06, grad_fn=<MseLossBackward0>)\n",
      "tensor(4.2585e-06, grad_fn=<MseLossBackward0>)\n",
      "tensor(4.4077e-06, grad_fn=<MseLossBackward0>)\n",
      "tensor(5.0997e-06, grad_fn=<MseLossBackward0>)\n",
      "tensor(5.1848e-06, grad_fn=<MseLossBackward0>)\n",
      "tensor(5.9483e-06, grad_fn=<MseLossBackward0>)\n",
      "tensor(5.4313e-06, grad_fn=<MseLossBackward0>)\n",
      "tensor(4.9742e-06, grad_fn=<MseLossBackward0>)\n",
      "tensor(4.4862e-06, grad_fn=<MseLossBackward0>)\n",
      "tensor(5.0980e-06, grad_fn=<MseLossBackward0>)\n",
      "tensor(4.1332e-06, grad_fn=<MseLossBackward0>)\n",
      "tensor(3.9466e-06, grad_fn=<MseLossBackward0>)\n",
      "tensor(4.0859e-06, grad_fn=<MseLossBackward0>)\n",
      "tensor(4.4056e-06, grad_fn=<MseLossBackward0>)\n",
      "tensor(4.0944e-06, grad_fn=<MseLossBackward0>)\n",
      "tensor(4.7584e-06, grad_fn=<MseLossBackward0>)\n",
      "tensor(5.8020e-06, grad_fn=<MseLossBackward0>)\n",
      "tensor(4.1984e-06, grad_fn=<MseLossBackward0>)\n",
      "tensor(4.0092e-06, grad_fn=<MseLossBackward0>)\n",
      "tensor(4.2280e-06, grad_fn=<MseLossBackward0>)\n",
      "tensor(4.3958e-06, grad_fn=<MseLossBackward0>)\n",
      "tensor(4.8338e-06, grad_fn=<MseLossBackward0>)\n",
      "tensor(4.4039e-06, grad_fn=<MseLossBackward0>)\n",
      "tensor(4.7409e-06, grad_fn=<MseLossBackward0>)\n",
      "tensor(4.8596e-06, grad_fn=<MseLossBackward0>)\n",
      "tensor(3.7341e-06, grad_fn=<MseLossBackward0>)\n",
      "tensor(3.1084e-06, grad_fn=<MseLossBackward0>)\n",
      "tensor(3.7204e-06, grad_fn=<MseLossBackward0>)\n",
      "tensor(3.9554e-06, grad_fn=<MseLossBackward0>)\n",
      "tensor(3.3000e-06, grad_fn=<MseLossBackward0>)\n",
      "tensor(3.9949e-06, grad_fn=<MseLossBackward0>)\n",
      "tensor(2.9773e-06, grad_fn=<MseLossBackward0>)\n",
      "tensor(3.0580e-06, grad_fn=<MseLossBackward0>)\n",
      "tensor(3.9461e-06, grad_fn=<MseLossBackward0>)\n",
      "tensor(3.9258e-06, grad_fn=<MseLossBackward0>)\n",
      "tensor(3.8930e-06, grad_fn=<MseLossBackward0>)\n",
      "tensor(3.1624e-06, grad_fn=<MseLossBackward0>)\n",
      "tensor(3.4787e-06, grad_fn=<MseLossBackward0>)\n",
      "tensor(2.8492e-06, grad_fn=<MseLossBackward0>)\n",
      "tensor(3.5553e-06, grad_fn=<MseLossBackward0>)\n",
      "tensor(3.5052e-06, grad_fn=<MseLossBackward0>)\n",
      "tensor(3.5608e-06, grad_fn=<MseLossBackward0>)\n",
      "tensor(3.0367e-06, grad_fn=<MseLossBackward0>)\n",
      "tensor(3.0362e-06, grad_fn=<MseLossBackward0>)\n",
      "tensor(2.9938e-06, grad_fn=<MseLossBackward0>)\n",
      "tensor(3.6739e-06, grad_fn=<MseLossBackward0>)\n",
      "tensor(3.9537e-06, grad_fn=<MseLossBackward0>)\n",
      "tensor(7.0565e-06, grad_fn=<MseLossBackward0>)\n",
      "tensor(4.2977e-06, grad_fn=<MseLossBackward0>)\n",
      "tensor(3.3597e-06, grad_fn=<MseLossBackward0>)\n",
      "tensor(3.6023e-06, grad_fn=<MseLossBackward0>)\n",
      "tensor(2.7060e-06, grad_fn=<MseLossBackward0>)\n",
      "tensor(2.7752e-06, grad_fn=<MseLossBackward0>)\n",
      "tensor(3.3129e-06, grad_fn=<MseLossBackward0>)\n",
      "tensor(2.9872e-06, grad_fn=<MseLossBackward0>)\n",
      "tensor(2.8897e-06, grad_fn=<MseLossBackward0>)\n",
      "tensor(2.7633e-06, grad_fn=<MseLossBackward0>)\n",
      "tensor(2.8160e-06, grad_fn=<MseLossBackward0>)\n",
      "tensor(2.7487e-06, grad_fn=<MseLossBackward0>)\n",
      "tensor(2.7177e-06, grad_fn=<MseLossBackward0>)\n",
      "tensor(2.8208e-06, grad_fn=<MseLossBackward0>)\n",
      "tensor(3.0173e-06, grad_fn=<MseLossBackward0>)\n",
      "tensor(3.0028e-06, grad_fn=<MseLossBackward0>)\n",
      "tensor(2.4527e-06, grad_fn=<MseLossBackward0>)\n",
      "tensor(2.1805e-06, grad_fn=<MseLossBackward0>)\n",
      "tensor(2.7577e-06, grad_fn=<MseLossBackward0>)\n",
      "tensor(2.6716e-06, grad_fn=<MseLossBackward0>)\n",
      "tensor(2.4418e-06, grad_fn=<MseLossBackward0>)\n",
      "tensor(3.1981e-06, grad_fn=<MseLossBackward0>)\n",
      "tensor(3.8254e-06, grad_fn=<MseLossBackward0>)\n",
      "tensor(2.5250e-06, grad_fn=<MseLossBackward0>)\n",
      "tensor(2.4844e-06, grad_fn=<MseLossBackward0>)\n",
      "tensor(2.1606e-06, grad_fn=<MseLossBackward0>)\n",
      "tensor(2.6852e-06, grad_fn=<MseLossBackward0>)\n",
      "tensor(2.6309e-06, grad_fn=<MseLossBackward0>)\n",
      "tensor(2.7671e-06, grad_fn=<MseLossBackward0>)\n",
      "tensor(2.1834e-06, grad_fn=<MseLossBackward0>)\n",
      "tensor(2.7564e-06, grad_fn=<MseLossBackward0>)\n",
      "tensor(2.8227e-06, grad_fn=<MseLossBackward0>)\n",
      "tensor(2.6626e-06, grad_fn=<MseLossBackward0>)\n",
      "tensor(2.6721e-06, grad_fn=<MseLossBackward0>)\n",
      "tensor(2.3743e-06, grad_fn=<MseLossBackward0>)\n",
      "tensor(2.2893e-06, grad_fn=<MseLossBackward0>)\n",
      "tensor(2.1072e-06, grad_fn=<MseLossBackward0>)\n",
      "tensor(1.8747e-06, grad_fn=<MseLossBackward0>)\n",
      "tensor(2.2465e-06, grad_fn=<MseLossBackward0>)\n",
      "tensor(2.6358e-06, grad_fn=<MseLossBackward0>)\n",
      "tensor(2.5605e-06, grad_fn=<MseLossBackward0>)\n",
      "tensor(1.8460e-06, grad_fn=<MseLossBackward0>)\n",
      "tensor(1.4980e-06, grad_fn=<MseLossBackward0>)\n",
      "tensor(2.0256e-06, grad_fn=<MseLossBackward0>)\n",
      "tensor(1.7451e-06, grad_fn=<MseLossBackward0>)\n",
      "tensor(2.1301e-06, grad_fn=<MseLossBackward0>)\n",
      "tensor(2.4304e-06, grad_fn=<MseLossBackward0>)\n",
      "tensor(2.4128e-06, grad_fn=<MseLossBackward0>)\n",
      "tensor(1.7541e-06, grad_fn=<MseLossBackward0>)\n",
      "tensor(1.7516e-06, grad_fn=<MseLossBackward0>)\n",
      "tensor(1.6426e-06, grad_fn=<MseLossBackward0>)\n",
      "tensor(1.8573e-06, grad_fn=<MseLossBackward0>)\n",
      "tensor(1.9208e-06, grad_fn=<MseLossBackward0>)\n",
      "tensor(1.8783e-06, grad_fn=<MseLossBackward0>)\n",
      "tensor(2.3451e-06, grad_fn=<MseLossBackward0>)\n",
      "tensor(1.5736e-06, grad_fn=<MseLossBackward0>)\n",
      "tensor(2.4299e-06, grad_fn=<MseLossBackward0>)\n",
      "tensor(2.1333e-06, grad_fn=<MseLossBackward0>)\n",
      "tensor(1.9435e-06, grad_fn=<MseLossBackward0>)\n",
      "tensor(1.4647e-06, grad_fn=<MseLossBackward0>)\n",
      "tensor(1.7896e-06, grad_fn=<MseLossBackward0>)\n",
      "tensor(1.6764e-06, grad_fn=<MseLossBackward0>)\n",
      "tensor(1.5200e-06, grad_fn=<MseLossBackward0>)\n",
      "tensor(1.3892e-06, grad_fn=<MseLossBackward0>)\n",
      "tensor(1.5181e-06, grad_fn=<MseLossBackward0>)\n",
      "tensor(2.2066e-06, grad_fn=<MseLossBackward0>)\n",
      "tensor(1.6884e-06, grad_fn=<MseLossBackward0>)\n",
      "tensor(2.1148e-06, grad_fn=<MseLossBackward0>)\n",
      "tensor(2.0188e-06, grad_fn=<MseLossBackward0>)\n",
      "tensor(1.8332e-06, grad_fn=<MseLossBackward0>)\n",
      "tensor(1.4952e-06, grad_fn=<MseLossBackward0>)\n",
      "tensor(1.5632e-06, grad_fn=<MseLossBackward0>)\n",
      "tensor(2.3453e-06, grad_fn=<MseLossBackward0>)\n",
      "tensor(1.6995e-06, grad_fn=<MseLossBackward0>)\n",
      "tensor(2.0387e-06, grad_fn=<MseLossBackward0>)\n",
      "tensor(2.5382e-06, grad_fn=<MseLossBackward0>)\n",
      "tensor(1.5979e-06, grad_fn=<MseLossBackward0>)\n",
      "tensor(1.5880e-06, grad_fn=<MseLossBackward0>)\n",
      "tensor(2.0396e-06, grad_fn=<MseLossBackward0>)\n",
      "tensor(1.5721e-06, grad_fn=<MseLossBackward0>)\n",
      "tensor(1.3669e-06, grad_fn=<MseLossBackward0>)\n",
      "tensor(1.4780e-06, grad_fn=<MseLossBackward0>)\n",
      "tensor(1.6945e-06, grad_fn=<MseLossBackward0>)\n",
      "tensor(1.9290e-06, grad_fn=<MseLossBackward0>)\n",
      "tensor(1.9300e-06, grad_fn=<MseLossBackward0>)\n",
      "tensor(1.7582e-06, grad_fn=<MseLossBackward0>)\n",
      "tensor(1.9166e-06, grad_fn=<MseLossBackward0>)\n"
     ]
    },
    {
     "ename": "KeyboardInterrupt",
     "evalue": "",
     "output_type": "error",
     "traceback": [
      "\u001b[0;31m---------------------------------------------------------------------------\u001b[0m",
      "\u001b[0;31mKeyboardInterrupt\u001b[0m                         Traceback (most recent call last)",
      "\u001b[0;32m<ipython-input-133-e8cc326d2892>\u001b[0m in \u001b[0;36m<module>\u001b[0;34m\u001b[0m\n\u001b[1;32m      1\u001b[0m \u001b[0;32mfor\u001b[0m \u001b[0mi\u001b[0m\u001b[0;34m,\u001b[0m \u001b[0;34m(\u001b[0m\u001b[0mx\u001b[0m\u001b[0;34m,\u001b[0m\u001b[0my\u001b[0m\u001b[0;34m)\u001b[0m \u001b[0;32min\u001b[0m \u001b[0menumerate\u001b[0m\u001b[0;34m(\u001b[0m\u001b[0mmgen\u001b[0m\u001b[0;34m.\u001b[0m\u001b[0mgenerator\u001b[0m\u001b[0;34m(\u001b[0m\u001b[0mtrain\u001b[0m\u001b[0;34m=\u001b[0m\u001b[0;32mTrue\u001b[0m\u001b[0;34m)\u001b[0m\u001b[0;34m)\u001b[0m\u001b[0;34m:\u001b[0m\u001b[0;34m\u001b[0m\u001b[0;34m\u001b[0m\u001b[0m\n\u001b[0;32m----> 2\u001b[0;31m     \u001b[0me\u001b[0m\u001b[0;34m,\u001b[0m \u001b[0ma\u001b[0m \u001b[0;34m=\u001b[0m \u001b[0mm\u001b[0m\u001b[0;34m(\u001b[0m\u001b[0mx\u001b[0m\u001b[0;34m)\u001b[0m\u001b[0;34m\u001b[0m\u001b[0;34m\u001b[0m\u001b[0m\n\u001b[0m\u001b[1;32m      3\u001b[0m     \u001b[0mopt\u001b[0m\u001b[0;34m.\u001b[0m\u001b[0mzero_grad\u001b[0m\u001b[0;34m(\u001b[0m\u001b[0;34m)\u001b[0m\u001b[0;34m\u001b[0m\u001b[0;34m\u001b[0m\u001b[0m\n\u001b[1;32m      4\u001b[0m     \u001b[0me\u001b[0m\u001b[0;34m,\u001b[0m \u001b[0ma\u001b[0m \u001b[0;34m=\u001b[0m \u001b[0mm\u001b[0m\u001b[0;34m(\u001b[0m\u001b[0mx\u001b[0m\u001b[0;34m)\u001b[0m\u001b[0;34m\u001b[0m\u001b[0;34m\u001b[0m\u001b[0m\n\u001b[1;32m      5\u001b[0m     \u001b[0mloss\u001b[0m \u001b[0;34m=\u001b[0m \u001b[0mmse\u001b[0m\u001b[0;34m(\u001b[0m\u001b[0me\u001b[0m\u001b[0;34m,\u001b[0m\u001b[0ma\u001b[0m\u001b[0;34m)\u001b[0m\u001b[0;34m\u001b[0m\u001b[0;34m\u001b[0m\u001b[0m\n",
      "\u001b[0;32m/Library/Frameworks/Python.framework/Versions/3.6/lib/python3.6/site-packages/torch/nn/modules/module.py\u001b[0m in \u001b[0;36m_call_impl\u001b[0;34m(self, *input, **kwargs)\u001b[0m\n\u001b[1;32m   1100\u001b[0m         if not (self._backward_hooks or self._forward_hooks or self._forward_pre_hooks or _global_backward_hooks\n\u001b[1;32m   1101\u001b[0m                 or _global_forward_hooks or _global_forward_pre_hooks):\n\u001b[0;32m-> 1102\u001b[0;31m             \u001b[0;32mreturn\u001b[0m \u001b[0mforward_call\u001b[0m\u001b[0;34m(\u001b[0m\u001b[0;34m*\u001b[0m\u001b[0minput\u001b[0m\u001b[0;34m,\u001b[0m \u001b[0;34m**\u001b[0m\u001b[0mkwargs\u001b[0m\u001b[0;34m)\u001b[0m\u001b[0;34m\u001b[0m\u001b[0;34m\u001b[0m\u001b[0m\n\u001b[0m\u001b[1;32m   1103\u001b[0m         \u001b[0;31m# Do not call functions when jit is used\u001b[0m\u001b[0;34m\u001b[0m\u001b[0;34m\u001b[0m\u001b[0;34m\u001b[0m\u001b[0m\n\u001b[1;32m   1104\u001b[0m         \u001b[0mfull_backward_hooks\u001b[0m\u001b[0;34m,\u001b[0m \u001b[0mnon_full_backward_hooks\u001b[0m \u001b[0;34m=\u001b[0m \u001b[0;34m[\u001b[0m\u001b[0;34m]\u001b[0m\u001b[0;34m,\u001b[0m \u001b[0;34m[\u001b[0m\u001b[0;34m]\u001b[0m\u001b[0;34m\u001b[0m\u001b[0;34m\u001b[0m\u001b[0m\n",
      "\u001b[0;32m~/Git/unsupervised_WIP/models.py\u001b[0m in \u001b[0;36mforward\u001b[0;34m(self, x)\u001b[0m\n\u001b[1;32m     31\u001b[0m                x):\n\u001b[1;32m     32\u001b[0m \u001b[0;34m\u001b[0m\u001b[0m\n\u001b[0;32m---> 33\u001b[0;31m         \u001b[0;32mreturn\u001b[0m \u001b[0;34m(\u001b[0m\u001b[0mself\u001b[0m\u001b[0;34m.\u001b[0m\u001b[0me\u001b[0m\u001b[0;34m(\u001b[0m\u001b[0mx\u001b[0m\u001b[0;34m)\u001b[0m\u001b[0;34m,\u001b[0m \u001b[0mself\u001b[0m\u001b[0;34m.\u001b[0m\u001b[0me\u001b[0m\u001b[0;34m(\u001b[0m\u001b[0mself\u001b[0m\u001b[0;34m.\u001b[0m\u001b[0ma\u001b[0m\u001b[0;34m(\u001b[0m\u001b[0mx\u001b[0m\u001b[0;34m)\u001b[0m\u001b[0;34m)\u001b[0m\u001b[0;34m)\u001b[0m\u001b[0;34m\u001b[0m\u001b[0;34m\u001b[0m\u001b[0m\n\u001b[0m\u001b[1;32m     34\u001b[0m \u001b[0;34m\u001b[0m\u001b[0m\n\u001b[1;32m     35\u001b[0m \u001b[0;34m\u001b[0m\u001b[0m\n",
      "\u001b[0;32m/Library/Frameworks/Python.framework/Versions/3.6/lib/python3.6/site-packages/torch/nn/modules/module.py\u001b[0m in \u001b[0;36m_call_impl\u001b[0;34m(self, *input, **kwargs)\u001b[0m\n\u001b[1;32m   1100\u001b[0m         if not (self._backward_hooks or self._forward_hooks or self._forward_pre_hooks or _global_backward_hooks\n\u001b[1;32m   1101\u001b[0m                 or _global_forward_hooks or _global_forward_pre_hooks):\n\u001b[0;32m-> 1102\u001b[0;31m             \u001b[0;32mreturn\u001b[0m \u001b[0mforward_call\u001b[0m\u001b[0;34m(\u001b[0m\u001b[0;34m*\u001b[0m\u001b[0minput\u001b[0m\u001b[0;34m,\u001b[0m \u001b[0;34m**\u001b[0m\u001b[0mkwargs\u001b[0m\u001b[0;34m)\u001b[0m\u001b[0;34m\u001b[0m\u001b[0;34m\u001b[0m\u001b[0m\n\u001b[0m\u001b[1;32m   1103\u001b[0m         \u001b[0;31m# Do not call functions when jit is used\u001b[0m\u001b[0;34m\u001b[0m\u001b[0;34m\u001b[0m\u001b[0;34m\u001b[0m\u001b[0m\n\u001b[1;32m   1104\u001b[0m         \u001b[0mfull_backward_hooks\u001b[0m\u001b[0;34m,\u001b[0m \u001b[0mnon_full_backward_hooks\u001b[0m \u001b[0;34m=\u001b[0m \u001b[0;34m[\u001b[0m\u001b[0;34m]\u001b[0m\u001b[0;34m,\u001b[0m \u001b[0;34m[\u001b[0m\u001b[0;34m]\u001b[0m\u001b[0;34m\u001b[0m\u001b[0;34m\u001b[0m\u001b[0m\n",
      "\u001b[0;32m~/Git/unsupervised_WIP/models.py\u001b[0m in \u001b[0;36mforward\u001b[0;34m(self, x)\u001b[0m\n\u001b[1;32m     68\u001b[0m \u001b[0;34m\u001b[0m\u001b[0m\n\u001b[1;32m     69\u001b[0m         \u001b[0mx\u001b[0m \u001b[0;34m=\u001b[0m \u001b[0mself\u001b[0m\u001b[0;34m.\u001b[0m\u001b[0mcT5\u001b[0m\u001b[0;34m(\u001b[0m\u001b[0mx\u001b[0m\u001b[0;34m)\u001b[0m \u001b[0;34m+\u001b[0m \u001b[0mx1\u001b[0m\u001b[0;34m\u001b[0m\u001b[0;34m\u001b[0m\u001b[0m\n\u001b[0;32m---> 70\u001b[0;31m         \u001b[0mx\u001b[0m \u001b[0;34m=\u001b[0m \u001b[0mself\u001b[0m\u001b[0;34m.\u001b[0m\u001b[0mcT5\u001b[0m\u001b[0;34m(\u001b[0m\u001b[0mx\u001b[0m\u001b[0;34m)\u001b[0m\u001b[0;34m\u001b[0m\u001b[0;34m\u001b[0m\u001b[0m\n\u001b[0m\u001b[1;32m     71\u001b[0m         \u001b[0mx\u001b[0m \u001b[0;34m=\u001b[0m \u001b[0mself\u001b[0m\u001b[0;34m.\u001b[0m\u001b[0mcT5\u001b[0m\u001b[0;34m(\u001b[0m\u001b[0mx\u001b[0m\u001b[0;34m)\u001b[0m \u001b[0;34m+\u001b[0m \u001b[0mx0\u001b[0m\u001b[0;34m\u001b[0m\u001b[0;34m\u001b[0m\u001b[0m\n\u001b[1;32m     72\u001b[0m         \u001b[0mx\u001b[0m \u001b[0;34m=\u001b[0m \u001b[0mself\u001b[0m\u001b[0;34m.\u001b[0m\u001b[0mcT4\u001b[0m\u001b[0;34m(\u001b[0m\u001b[0mx\u001b[0m\u001b[0;34m)\u001b[0m\u001b[0;34m\u001b[0m\u001b[0;34m\u001b[0m\u001b[0m\n",
      "\u001b[0;32m/Library/Frameworks/Python.framework/Versions/3.6/lib/python3.6/site-packages/torch/nn/modules/module.py\u001b[0m in \u001b[0;36m_call_impl\u001b[0;34m(self, *input, **kwargs)\u001b[0m\n\u001b[1;32m   1100\u001b[0m         if not (self._backward_hooks or self._forward_hooks or self._forward_pre_hooks or _global_backward_hooks\n\u001b[1;32m   1101\u001b[0m                 or _global_forward_hooks or _global_forward_pre_hooks):\n\u001b[0;32m-> 1102\u001b[0;31m             \u001b[0;32mreturn\u001b[0m \u001b[0mforward_call\u001b[0m\u001b[0;34m(\u001b[0m\u001b[0;34m*\u001b[0m\u001b[0minput\u001b[0m\u001b[0;34m,\u001b[0m \u001b[0;34m**\u001b[0m\u001b[0mkwargs\u001b[0m\u001b[0;34m)\u001b[0m\u001b[0;34m\u001b[0m\u001b[0;34m\u001b[0m\u001b[0m\n\u001b[0m\u001b[1;32m   1103\u001b[0m         \u001b[0;31m# Do not call functions when jit is used\u001b[0m\u001b[0;34m\u001b[0m\u001b[0;34m\u001b[0m\u001b[0;34m\u001b[0m\u001b[0m\n\u001b[1;32m   1104\u001b[0m         \u001b[0mfull_backward_hooks\u001b[0m\u001b[0;34m,\u001b[0m \u001b[0mnon_full_backward_hooks\u001b[0m \u001b[0;34m=\u001b[0m \u001b[0;34m[\u001b[0m\u001b[0;34m]\u001b[0m\u001b[0;34m,\u001b[0m \u001b[0;34m[\u001b[0m\u001b[0;34m]\u001b[0m\u001b[0;34m\u001b[0m\u001b[0;34m\u001b[0m\u001b[0m\n",
      "\u001b[0;32m/Library/Frameworks/Python.framework/Versions/3.6/lib/python3.6/site-packages/torch/nn/modules/conv.py\u001b[0m in \u001b[0;36mforward\u001b[0;34m(self, input, output_size)\u001b[0m\n\u001b[1;32m    923\u001b[0m         return F.conv_transpose2d(\n\u001b[1;32m    924\u001b[0m             \u001b[0minput\u001b[0m\u001b[0;34m,\u001b[0m \u001b[0mself\u001b[0m\u001b[0;34m.\u001b[0m\u001b[0mweight\u001b[0m\u001b[0;34m,\u001b[0m \u001b[0mself\u001b[0m\u001b[0;34m.\u001b[0m\u001b[0mbias\u001b[0m\u001b[0;34m,\u001b[0m \u001b[0mself\u001b[0m\u001b[0;34m.\u001b[0m\u001b[0mstride\u001b[0m\u001b[0;34m,\u001b[0m \u001b[0mself\u001b[0m\u001b[0;34m.\u001b[0m\u001b[0mpadding\u001b[0m\u001b[0;34m,\u001b[0m\u001b[0;34m\u001b[0m\u001b[0;34m\u001b[0m\u001b[0m\n\u001b[0;32m--> 925\u001b[0;31m             output_padding, self.groups, self.dilation)\n\u001b[0m\u001b[1;32m    926\u001b[0m \u001b[0;34m\u001b[0m\u001b[0m\n\u001b[1;32m    927\u001b[0m \u001b[0;34m\u001b[0m\u001b[0m\n",
      "\u001b[0;31mKeyboardInterrupt\u001b[0m: "
     ]
    }
   ],
   "source": [
    "for i, (x,y) in enumerate(mgen.generator(train=True)):\n",
    "    e, a = m(x)\n",
    "    opt.zero_grad()\n",
    "    e, a = m(x)\n",
    "    loss = mse(e,a)\n",
    "    loss.backward()\n",
    "    opt.step()\n",
    "    print(loss)"
   ]
  },
  {
   "cell_type": "code",
   "execution_count": 150,
   "id": "0fea8fa6-e390-4e98-9054-6599ee8e68ca",
   "metadata": {},
   "outputs": [
    {
     "data": {
      "text/plain": [
       "(<matplotlib.image.AxesImage at 0x7f98b8503048>, tensor(4))"
      ]
     },
     "execution_count": 150,
     "metadata": {},
     "output_type": "execute_result"
    },
    {
     "data": {
      "image/png": "[encoded data removed]",
      "text/plain": [
       "<Figure size 432x288 with 1 Axes>"
      ]
     },
     "metadata": {
      "needs_background": "light"
     },
     "output_type": "display_data"
    }
   ],
   "source": [
    "i = 15\n",
    "sample = m.a(x)[i][0].detach().numpy()\n",
    "plt.imshow(sample), y[i]"
   ]
  },
  {
   "cell_type": "code",
   "execution_count": 151,
   "id": "575f21a3-3ff6-471f-91f5-dac42eaa5f4b",
   "metadata": {},
   "outputs": [
    {
     "data": {
      "text/plain": [
       "<matplotlib.image.AxesImage at 0x7f98b86d06d8>"
      ]
     },
     "execution_count": 151,
     "metadata": {},
     "output_type": "execute_result"
    },
    {
     "data": {
      "image/png": "[encoded data removed]",
      "text/plain": [
       "<Figure size 432x288 with 1 Axes>"
      ]
     },
     "metadata": {
      "needs_background": "light"
     },
     "output_type": "display_data"
    }
   ],
   "source": [
    "gt = x[i][0].detach().numpy()\n",
    "plt.imshow(gt)"
   ]
  },
  {
   "cell_type": "code",
   "execution_count": 152,
   "id": "711f1bfc-672d-4509-808c-5041f16af2f6",
   "metadata": {},
   "outputs": [
    {
     "data": {
      "text/plain": [
       "(0.0, 1.0, -0.5202206, 0.90129894)"
      ]
     },
     "execution_count": 152,
     "metadata": {},
     "output_type": "execute_result"
    }
   ],
   "source": [
    "gt.min(), gt.max(), sample.min(), sample.max()"
   ]
  },
  {
   "cell_type": "code",
   "execution_count": null,
   "id": "c170d447-b4f7-419d-89e7-fd73dbd15101",
   "metadata": {},
   "outputs": [],
   "source": []
  }
 ],
 "metadata": {
  "kernelspec": {
   "display_name": "Python 3",
   "language": "python",
   "name": "python3"
  },
  "language_info": {
   "codemirror_mode": {
    "name": "ipython",
    "version": 3
   },
   "file_extension": ".py",
   "mimetype": "text/x-python",
   "name": "python",
   "nbconvert_exporter": "python",
   "pygments_lexer": "ipython3",
   "version": "3.6.8"
  }
 },
 "nbformat": 4,
 "nbformat_minor": 5
}
